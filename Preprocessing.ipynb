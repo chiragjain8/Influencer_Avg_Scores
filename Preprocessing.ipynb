{
  "nbformat": 4,
  "nbformat_minor": 0,
  "metadata": {
    "colab": {
      "provenance": [],
      "gpuType": "T4"
    },
    "kernelspec": {
      "name": "python3",
      "display_name": "Python 3"
    },
    "language_info": {
      "name": "python"
    },
    "accelerator": "GPU"
  },
  "cells": [
    {
      "cell_type": "markdown",
      "source": [
        "## Downloading Videos from sheet to my google drive"
      ],
      "metadata": {
        "id": "2fXNkugmYCYG"
      }
    },
    {
      "cell_type": "code",
      "execution_count": null,
      "metadata": {
        "id": "Ks4hLZXdV1D2"
      },
      "outputs": [],
      "source": [
        "import os\n",
        "import pandas as pd\n",
        "import requests\n",
        "\n",
        "Step 1: Load Excel file\n",
        "excel_path = \"/content/Assignment Data.xlsx\"  # Replace with your file path\n",
        "data = pd.read_excel(excel_path)\n",
        "\n",
        "# Step 2: Create a directory to store the videos\n",
        "dataset_folder = \"/content/drive/MyDrive/assi_Data_video/video_dataset\"\n",
        "os.makedirs(dataset_folder, exist_ok=True)\n",
        "\n",
        "# Step 3: Prepare a list for metadata\n",
        "metadata = []\n",
        "\n",
        "# Step 4: Loop through the data and download videos\n",
        "for index, row in data.iterrows():\n",
        "    score = row['Performance']  # Adjust column name to match Excel\n",
        "    video_url = row['Video URL']  # Adjust column name to match Excel\n",
        "\n",
        "    try:\n",
        "        # Download video using requests\n",
        "        video_filename = f\"{index}_video.mp4\"\n",
        "        video_path = os.path.join(dataset_folder, video_filename)\n",
        "\n",
        "        # Stream and save video\n",
        "        with requests.get(video_url, stream=True) as response:\n",
        "            response.raise_for_status()  # Raise an error for bad status codes\n",
        "            with open(video_path, \"wb\") as video_file:\n",
        "                for chunk in response.iter_content(chunk_size=8192):  # Download in chunks\n",
        "                    video_file.write(chunk)\n",
        "\n",
        "        # Append to metadata\n",
        "        metadata.append({\"video_path\": video_path, \"score\": score})\n",
        "        print(f\"Downloaded: {video_filename}\")\n",
        "\n",
        "    except Exception as e:\n",
        "        print(f\"Error downloading video from {video_url}: {e}\")\n",
        "\n",
        "# Step 5: Save metadata to a CSV file\n",
        "metadata_file = os.path.join(dataset_folder, \"metadata.csv\")\n",
        "pd.DataFrame(metadata).to_csv(metadata_file, index=False)\n",
        "print(f\"Metadata saved at: {metadata_file}\")\n"
      ]
    },
    {
      "cell_type": "code",
      "source": [],
      "metadata": {
        "id": "I2pAe8j1YMSZ"
      },
      "execution_count": null,
      "outputs": []
    },
    {
      "cell_type": "markdown",
      "source": [
        "## Creating a metadata CSV file containing video names and scores"
      ],
      "metadata": {
        "id": "LI4RSSHIYN49"
      }
    },
    {
      "cell_type": "code",
      "source": [
        "import pandas as pd\n",
        "\n",
        "# Load the existing metadata file\n",
        "metadata_path = \"/content/drive/MyDrive/assi_Data_video/video_dataset/metadata.csv\"\n",
        "metadata = pd.read_csv(metadata_path)\n",
        "\n",
        "# Extract only the file names from the full paths\n",
        "metadata['video_name'] = metadata['video_path'].apply(lambda x: os.path.basename(x))\n",
        "\n",
        "# Remove the old 'video_path' column and reorder columns\n",
        "metadata = metadata[['video_name', 'score']]\n",
        "\n",
        "# Save the updated metadata\n",
        "updated_metadata_path = \"/content/drive/MyDrive/assi_Data_video/video_dataset/updated_metadata.csv\"\n",
        "metadata.to_csv(updated_metadata_path, index=False)\n",
        "print(f\"Updated metadata saved at: {updated_metadata_path}\")\n"
      ],
      "metadata": {
        "id": "Imz3uVmna7ew",
        "outputId": "5244c1c2-895a-4f25-b9e8-351c973e8283",
        "colab": {
          "base_uri": "https://localhost:8080/"
        }
      },
      "execution_count": null,
      "outputs": [
        {
          "output_type": "stream",
          "name": "stdout",
          "text": [
            "Updated metadata saved at: /content/drive/MyDrive/assi_Data_video/video_dataset/updated_metadata.csv\n"
          ]
        }
      ]
    },
    {
      "cell_type": "code",
      "source": [],
      "metadata": {
        "id": "pxYDbya8IMGd"
      },
      "execution_count": null,
      "outputs": []
    },
    {
      "cell_type": "code",
      "source": [
        "pip install face_recognition opencv-python-headless pandas deepface moviepy imagehash scikit-learn\n"
      ],
      "metadata": {
        "colab": {
          "base_uri": "https://localhost:8080/"
        },
        "id": "Ny8HONcIIgf1",
        "outputId": "5149f7e0-a363-443a-aeee-9aa53f4e00b7"
      },
      "execution_count": null,
      "outputs": [
        {
          "output_type": "stream",
          "name": "stdout",
          "text": [
            "Collecting face_recognition\n",
            "  Downloading face_recognition-1.3.0-py2.py3-none-any.whl.metadata (21 kB)\n",
            "Requirement already satisfied: opencv-python-headless in /usr/local/lib/python3.10/dist-packages (4.10.0.84)\n",
            "Requirement already satisfied: pandas in /usr/local/lib/python3.10/dist-packages (2.2.2)\n",
            "Collecting deepface\n",
            "  Downloading deepface-0.0.93-py3-none-any.whl.metadata (30 kB)\n",
            "Requirement already satisfied: moviepy in /usr/local/lib/python3.10/dist-packages (1.0.3)\n",
            "Collecting imagehash\n",
            "  Downloading ImageHash-4.3.1-py2.py3-none-any.whl.metadata (8.0 kB)\n",
            "Requirement already satisfied: scikit-learn in /usr/local/lib/python3.10/dist-packages (1.5.2)\n",
            "Collecting face-recognition-models>=0.3.0 (from face_recognition)\n",
            "  Downloading face_recognition_models-0.3.0.tar.gz (100.1 MB)\n",
            "\u001b[2K     \u001b[90m━━━━━━━━━━━━━━━━━━━━━━━━━━━━━━━━━━━━━━━━\u001b[0m \u001b[32m100.1/100.1 MB\u001b[0m \u001b[31m8.9 MB/s\u001b[0m eta \u001b[36m0:00:00\u001b[0m\n",
            "\u001b[?25h  Preparing metadata (setup.py) ... \u001b[?25l\u001b[?25hdone\n",
            "Requirement already satisfied: Click>=6.0 in /usr/local/lib/python3.10/dist-packages (from face_recognition) (8.1.7)\n",
            "Requirement already satisfied: dlib>=19.7 in /usr/local/lib/python3.10/dist-packages (from face_recognition) (19.24.2)\n",
            "Requirement already satisfied: numpy in /usr/local/lib/python3.10/dist-packages (from face_recognition) (1.26.4)\n",
            "Requirement already satisfied: Pillow in /usr/local/lib/python3.10/dist-packages (from face_recognition) (11.0.0)\n",
            "Requirement already satisfied: python-dateutil>=2.8.2 in /usr/local/lib/python3.10/dist-packages (from pandas) (2.8.2)\n",
            "Requirement already satisfied: pytz>=2020.1 in /usr/local/lib/python3.10/dist-packages (from pandas) (2024.2)\n",
            "Requirement already satisfied: tzdata>=2022.7 in /usr/local/lib/python3.10/dist-packages (from pandas) (2024.2)\n",
            "Requirement already satisfied: requests>=2.27.1 in /usr/local/lib/python3.10/dist-packages (from deepface) (2.32.3)\n",
            "Requirement already satisfied: gdown>=3.10.1 in /usr/local/lib/python3.10/dist-packages (from deepface) (5.2.0)\n",
            "Requirement already satisfied: tqdm>=4.30.0 in /usr/local/lib/python3.10/dist-packages (from deepface) (4.66.6)\n",
            "Requirement already satisfied: opencv-python>=4.5.5.64 in /usr/local/lib/python3.10/dist-packages (from deepface) (4.10.0.84)\n",
            "Requirement already satisfied: tensorflow>=1.9.0 in /usr/local/lib/python3.10/dist-packages (from deepface) (2.17.1)\n",
            "Requirement already satisfied: keras>=2.2.0 in /usr/local/lib/python3.10/dist-packages (from deepface) (3.5.0)\n",
            "Requirement already satisfied: Flask>=1.1.2 in /usr/local/lib/python3.10/dist-packages (from deepface) (3.0.3)\n",
            "Collecting flask-cors>=4.0.1 (from deepface)\n",
            "  Downloading Flask_Cors-5.0.0-py2.py3-none-any.whl.metadata (5.5 kB)\n",
            "Collecting mtcnn>=0.1.0 (from deepface)\n",
            "  Downloading mtcnn-1.0.0-py3-none-any.whl.metadata (5.8 kB)\n",
            "Collecting retina-face>=0.0.1 (from deepface)\n",
            "  Downloading retina_face-0.0.17-py3-none-any.whl.metadata (10 kB)\n",
            "Collecting fire>=0.4.0 (from deepface)\n",
            "  Downloading fire-0.7.0.tar.gz (87 kB)\n",
            "\u001b[2K     \u001b[90m━━━━━━━━━━━━━━━━━━━━━━━━━━━━━━━━━━━━━━━━\u001b[0m \u001b[32m87.2/87.2 kB\u001b[0m \u001b[31m9.4 MB/s\u001b[0m eta \u001b[36m0:00:00\u001b[0m\n",
            "\u001b[?25h  Preparing metadata (setup.py) ... \u001b[?25l\u001b[?25hdone\n",
            "Collecting gunicorn>=20.1.0 (from deepface)\n",
            "  Downloading gunicorn-23.0.0-py3-none-any.whl.metadata (4.4 kB)\n",
            "Requirement already satisfied: decorator<5.0,>=4.0.2 in /usr/local/lib/python3.10/dist-packages (from moviepy) (4.4.2)\n",
            "Requirement already satisfied: imageio<3.0,>=2.5 in /usr/local/lib/python3.10/dist-packages (from moviepy) (2.36.0)\n",
            "Requirement already satisfied: imageio_ffmpeg>=0.2.0 in /usr/local/lib/python3.10/dist-packages (from moviepy) (0.5.1)\n",
            "Requirement already satisfied: proglog<=1.0.0 in /usr/local/lib/python3.10/dist-packages (from moviepy) (0.1.10)\n",
            "Collecting PyWavelets (from imagehash)\n",
            "  Downloading pywavelets-1.7.0-cp310-cp310-manylinux_2_17_x86_64.manylinux2014_x86_64.whl.metadata (9.0 kB)\n",
            "Requirement already satisfied: scipy in /usr/local/lib/python3.10/dist-packages (from imagehash) (1.13.1)\n",
            "Requirement already satisfied: joblib>=1.2.0 in /usr/local/lib/python3.10/dist-packages (from scikit-learn) (1.4.2)\n",
            "Requirement already satisfied: threadpoolctl>=3.1.0 in /usr/local/lib/python3.10/dist-packages (from scikit-learn) (3.5.0)\n",
            "Requirement already satisfied: termcolor in /usr/local/lib/python3.10/dist-packages (from fire>=0.4.0->deepface) (2.5.0)\n",
            "Requirement already satisfied: Werkzeug>=3.0.0 in /usr/local/lib/python3.10/dist-packages (from Flask>=1.1.2->deepface) (3.1.3)\n",
            "Requirement already satisfied: Jinja2>=3.1.2 in /usr/local/lib/python3.10/dist-packages (from Flask>=1.1.2->deepface) (3.1.4)\n",
            "Requirement already satisfied: itsdangerous>=2.1.2 in /usr/local/lib/python3.10/dist-packages (from Flask>=1.1.2->deepface) (2.2.0)\n",
            "Requirement already satisfied: blinker>=1.6.2 in /usr/local/lib/python3.10/dist-packages (from Flask>=1.1.2->deepface) (1.9.0)\n",
            "Requirement already satisfied: beautifulsoup4 in /usr/local/lib/python3.10/dist-packages (from gdown>=3.10.1->deepface) (4.12.3)\n",
            "Requirement already satisfied: filelock in /usr/local/lib/python3.10/dist-packages (from gdown>=3.10.1->deepface) (3.16.1)\n",
            "Requirement already satisfied: packaging in /usr/local/lib/python3.10/dist-packages (from gunicorn>=20.1.0->deepface) (24.2)\n",
            "Requirement already satisfied: setuptools in /usr/local/lib/python3.10/dist-packages (from imageio_ffmpeg>=0.2.0->moviepy) (75.1.0)\n",
            "Requirement already satisfied: absl-py in /usr/local/lib/python3.10/dist-packages (from keras>=2.2.0->deepface) (1.4.0)\n",
            "Requirement already satisfied: rich in /usr/local/lib/python3.10/dist-packages (from keras>=2.2.0->deepface) (13.9.4)\n",
            "Requirement already satisfied: namex in /usr/local/lib/python3.10/dist-packages (from keras>=2.2.0->deepface) (0.0.8)\n",
            "Requirement already satisfied: h5py in /usr/local/lib/python3.10/dist-packages (from keras>=2.2.0->deepface) (3.12.1)\n",
            "Requirement already satisfied: optree in /usr/local/lib/python3.10/dist-packages (from keras>=2.2.0->deepface) (0.13.1)\n",
            "Requirement already satisfied: ml-dtypes in /usr/local/lib/python3.10/dist-packages (from keras>=2.2.0->deepface) (0.4.1)\n",
            "Collecting lz4>=4.3.3 (from mtcnn>=0.1.0->deepface)\n",
            "  Downloading lz4-4.3.3-cp310-cp310-manylinux_2_17_x86_64.manylinux2014_x86_64.whl.metadata (3.7 kB)\n",
            "Requirement already satisfied: six>=1.5 in /usr/local/lib/python3.10/dist-packages (from python-dateutil>=2.8.2->pandas) (1.16.0)\n",
            "Requirement already satisfied: charset-normalizer<4,>=2 in /usr/local/lib/python3.10/dist-packages (from requests>=2.27.1->deepface) (3.4.0)\n",
            "Requirement already satisfied: idna<4,>=2.5 in /usr/local/lib/python3.10/dist-packages (from requests>=2.27.1->deepface) (3.10)\n",
            "Requirement already satisfied: urllib3<3,>=1.21.1 in /usr/local/lib/python3.10/dist-packages (from requests>=2.27.1->deepface) (2.2.3)\n",
            "Requirement already satisfied: certifi>=2017.4.17 in /usr/local/lib/python3.10/dist-packages (from requests>=2.27.1->deepface) (2024.8.30)\n",
            "Requirement already satisfied: astunparse>=1.6.0 in /usr/local/lib/python3.10/dist-packages (from tensorflow>=1.9.0->deepface) (1.6.3)\n",
            "Requirement already satisfied: flatbuffers>=24.3.25 in /usr/local/lib/python3.10/dist-packages (from tensorflow>=1.9.0->deepface) (24.3.25)\n",
            "Requirement already satisfied: gast!=0.5.0,!=0.5.1,!=0.5.2,>=0.2.1 in /usr/local/lib/python3.10/dist-packages (from tensorflow>=1.9.0->deepface) (0.6.0)\n",
            "Requirement already satisfied: google-pasta>=0.1.1 in /usr/local/lib/python3.10/dist-packages (from tensorflow>=1.9.0->deepface) (0.2.0)\n",
            "Requirement already satisfied: libclang>=13.0.0 in /usr/local/lib/python3.10/dist-packages (from tensorflow>=1.9.0->deepface) (18.1.1)\n",
            "Requirement already satisfied: opt-einsum>=2.3.2 in /usr/local/lib/python3.10/dist-packages (from tensorflow>=1.9.0->deepface) (3.4.0)\n",
            "Requirement already satisfied: protobuf!=4.21.0,!=4.21.1,!=4.21.2,!=4.21.3,!=4.21.4,!=4.21.5,<5.0.0dev,>=3.20.3 in /usr/local/lib/python3.10/dist-packages (from tensorflow>=1.9.0->deepface) (4.25.5)\n",
            "Requirement already satisfied: typing-extensions>=3.6.6 in /usr/local/lib/python3.10/dist-packages (from tensorflow>=1.9.0->deepface) (4.12.2)\n",
            "Requirement already satisfied: wrapt>=1.11.0 in /usr/local/lib/python3.10/dist-packages (from tensorflow>=1.9.0->deepface) (1.16.0)\n",
            "Requirement already satisfied: grpcio<2.0,>=1.24.3 in /usr/local/lib/python3.10/dist-packages (from tensorflow>=1.9.0->deepface) (1.68.0)\n",
            "Requirement already satisfied: tensorboard<2.18,>=2.17 in /usr/local/lib/python3.10/dist-packages (from tensorflow>=1.9.0->deepface) (2.17.1)\n",
            "Requirement already satisfied: tensorflow-io-gcs-filesystem>=0.23.1 in /usr/local/lib/python3.10/dist-packages (from tensorflow>=1.9.0->deepface) (0.37.1)\n",
            "Requirement already satisfied: wheel<1.0,>=0.23.0 in /usr/local/lib/python3.10/dist-packages (from astunparse>=1.6.0->tensorflow>=1.9.0->deepface) (0.45.0)\n",
            "Requirement already satisfied: MarkupSafe>=2.0 in /usr/local/lib/python3.10/dist-packages (from Jinja2>=3.1.2->Flask>=1.1.2->deepface) (3.0.2)\n",
            "Requirement already satisfied: markdown>=2.6.8 in /usr/local/lib/python3.10/dist-packages (from tensorboard<2.18,>=2.17->tensorflow>=1.9.0->deepface) (3.7)\n",
            "Requirement already satisfied: tensorboard-data-server<0.8.0,>=0.7.0 in /usr/local/lib/python3.10/dist-packages (from tensorboard<2.18,>=2.17->tensorflow>=1.9.0->deepface) (0.7.2)\n",
            "Requirement already satisfied: soupsieve>1.2 in /usr/local/lib/python3.10/dist-packages (from beautifulsoup4->gdown>=3.10.1->deepface) (2.6)\n",
            "Requirement already satisfied: PySocks!=1.5.7,>=1.5.6 in /usr/local/lib/python3.10/dist-packages (from requests[socks]->gdown>=3.10.1->deepface) (1.7.1)\n",
            "Requirement already satisfied: markdown-it-py>=2.2.0 in /usr/local/lib/python3.10/dist-packages (from rich->keras>=2.2.0->deepface) (3.0.0)\n",
            "Requirement already satisfied: pygments<3.0.0,>=2.13.0 in /usr/local/lib/python3.10/dist-packages (from rich->keras>=2.2.0->deepface) (2.18.0)\n",
            "Requirement already satisfied: mdurl~=0.1 in /usr/local/lib/python3.10/dist-packages (from markdown-it-py>=2.2.0->rich->keras>=2.2.0->deepface) (0.1.2)\n",
            "Downloading face_recognition-1.3.0-py2.py3-none-any.whl (15 kB)\n",
            "Downloading deepface-0.0.93-py3-none-any.whl (108 kB)\n",
            "\u001b[2K   \u001b[90m━━━━━━━━━━━━━━━━━━━━━━━━━━━━━━━━━━━━━━━━\u001b[0m \u001b[32m108.6/108.6 kB\u001b[0m \u001b[31m12.9 MB/s\u001b[0m eta \u001b[36m0:00:00\u001b[0m\n",
            "\u001b[?25hDownloading ImageHash-4.3.1-py2.py3-none-any.whl (296 kB)\n",
            "\u001b[2K   \u001b[90m━━━━━━━━━━━━━━━━━━━━━━━━━━━━━━━━━━━━━━━━\u001b[0m \u001b[32m296.5/296.5 kB\u001b[0m \u001b[31m30.0 MB/s\u001b[0m eta \u001b[36m0:00:00\u001b[0m\n",
            "\u001b[?25hDownloading Flask_Cors-5.0.0-py2.py3-none-any.whl (14 kB)\n",
            "Downloading gunicorn-23.0.0-py3-none-any.whl (85 kB)\n",
            "\u001b[2K   \u001b[90m━━━━━━━━━━━━━━━━━━━━━━━━━━━━━━━━━━━━━━━━\u001b[0m \u001b[32m85.0/85.0 kB\u001b[0m \u001b[31m10.0 MB/s\u001b[0m eta \u001b[36m0:00:00\u001b[0m\n",
            "\u001b[?25hDownloading mtcnn-1.0.0-py3-none-any.whl (1.9 MB)\n",
            "\u001b[2K   \u001b[90m━━━━━━━━━━━━━━━━━━━━━━━━━━━━━━━━━━━━━━━━\u001b[0m \u001b[32m1.9/1.9 MB\u001b[0m \u001b[31m82.0 MB/s\u001b[0m eta \u001b[36m0:00:00\u001b[0m\n",
            "\u001b[?25hDownloading retina_face-0.0.17-py3-none-any.whl (25 kB)\n",
            "Downloading pywavelets-1.7.0-cp310-cp310-manylinux_2_17_x86_64.manylinux2014_x86_64.whl (4.5 MB)\n",
            "\u001b[2K   \u001b[90m━━━━━━━━━━━━━━━━━━━━━━━━━━━━━━━━━━━━━━━━\u001b[0m \u001b[32m4.5/4.5 MB\u001b[0m \u001b[31m110.6 MB/s\u001b[0m eta \u001b[36m0:00:00\u001b[0m\n",
            "\u001b[?25hDownloading lz4-4.3.3-cp310-cp310-manylinux_2_17_x86_64.manylinux2014_x86_64.whl (1.3 MB)\n",
            "\u001b[2K   \u001b[90m━━━━━━━━━━━━━━━━━━━━━━━━━━━━━━━━━━━━━━━━\u001b[0m \u001b[32m1.3/1.3 MB\u001b[0m \u001b[31m70.7 MB/s\u001b[0m eta \u001b[36m0:00:00\u001b[0m\n",
            "\u001b[?25hBuilding wheels for collected packages: face-recognition-models, fire\n",
            "  Building wheel for face-recognition-models (setup.py) ... \u001b[?25l\u001b[?25hdone\n",
            "  Created wheel for face-recognition-models: filename=face_recognition_models-0.3.0-py2.py3-none-any.whl size=100566162 sha256=a6d9183b87ed021a5f657a7e8fe813dd15115fb46fe9748576b13591590d49d7\n",
            "  Stored in directory: /root/.cache/pip/wheels/7a/eb/cf/e9eced74122b679557f597bb7c8e4c739cfcac526db1fd523d\n",
            "  Building wheel for fire (setup.py) ... \u001b[?25l\u001b[?25hdone\n",
            "  Created wheel for fire: filename=fire-0.7.0-py3-none-any.whl size=114249 sha256=403002290b620862ce03d8f2f241f786e1a6371acfd9757b4ef19acfbf0ca9aa\n",
            "  Stored in directory: /root/.cache/pip/wheels/19/39/2f/2d3cadc408a8804103f1c34ddd4b9f6a93497b11fa96fe738e\n",
            "Successfully built face-recognition-models fire\n",
            "Installing collected packages: face-recognition-models, PyWavelets, lz4, gunicorn, fire, face_recognition, mtcnn, imagehash, flask-cors, retina-face, deepface\n",
            "Successfully installed PyWavelets-1.7.0 deepface-0.0.93 face-recognition-models-0.3.0 face_recognition-1.3.0 fire-0.7.0 flask-cors-5.0.0 gunicorn-23.0.0 imagehash-4.3.1 lz4-4.3.3 mtcnn-1.0.0 retina-face-0.0.17\n"
          ]
        }
      ]
    },
    {
      "cell_type": "code",
      "source": [],
      "metadata": {
        "id": "UpBYchXmY4sg"
      },
      "execution_count": null,
      "outputs": []
    },
    {
      "cell_type": "markdown",
      "source": [
        "### Importing Required Libraries"
      ],
      "metadata": {
        "id": "FvGnMGY1YreM"
      }
    },
    {
      "cell_type": "code",
      "source": [
        "import os\n",
        "import cv2\n",
        "import numpy as np\n",
        "import pandas as pd\n",
        "from moviepy.editor import VideoFileClip\n",
        "import face_recognition\n",
        "from sklearn.cluster import DBSCAN\n",
        "from collections import defaultdict\n",
        "from PIL import Image\n",
        "import imagehash\n"
      ],
      "metadata": {
        "id": "LT7ptVzAIxlW",
        "colab": {
          "base_uri": "https://localhost:8080/"
        },
        "outputId": "bb2f894a-f9a8-49bd-845b-b692179dc087"
      },
      "execution_count": null,
      "outputs": [
        {
          "output_type": "stream",
          "name": "stderr",
          "text": [
            "WARNING:py.warnings:/usr/local/lib/python3.10/dist-packages/moviepy/video/io/sliders.py:61: SyntaxWarning: \"is\" with a literal. Did you mean \"==\"?\n",
            "  if event.key is 'enter':\n",
            "\n"
          ]
        }
      ]
    },
    {
      "cell_type": "code",
      "source": [],
      "metadata": {
        "id": "iwgkKL_LI2Dl"
      },
      "execution_count": null,
      "outputs": []
    },
    {
      "cell_type": "markdown",
      "source": [
        "## Removing Duplicate Videos from Dataset using video hash"
      ],
      "metadata": {
        "id": "-Jvudva7Y8h2"
      }
    },
    {
      "cell_type": "code",
      "source": [
        "def extract_video_hash(video_path):\n",
        "    \"\"\"Generate a perceptual hash for a video based on its frames.\"\"\"\n",
        "    video = cv2.VideoCapture(video_path)\n",
        "    frame_hashes = []\n",
        "    frame_count = 0\n",
        "\n",
        "    while True:\n",
        "        ret, frame = video.read()\n",
        "        if not ret:\n",
        "            break\n",
        "        frame_count += 1\n",
        "\n",
        "        # Sample one frame every 30 frames\n",
        "        if frame_count % 30 == 0:\n",
        "            frame = cv2.resize(frame, (200, 200))  # Resize for uniform hashing\n",
        "            frame_hashes.append(str(imagehash.phash(Image.fromarray(frame))))\n",
        "\n",
        "    video.release()\n",
        "    return \"\".join(frame_hashes)\n",
        "\n",
        "def remove_duplicates(video_paths):\n",
        "    \"\"\"Remove duplicate videos based on hash comparison.\"\"\"\n",
        "    seen_hashes = set()\n",
        "    unique_videos = []\n",
        "\n",
        "    for video_path in video_paths:\n",
        "        video_hash = extract_video_hash(video_path)\n",
        "        if video_hash not in seen_hashes:\n",
        "            seen_hashes.add(video_hash)\n",
        "            unique_videos.append(video_path)\n",
        "\n",
        "    return unique_videos\n"
      ],
      "metadata": {
        "id": "P-EP1Fa_I18F"
      },
      "execution_count": null,
      "outputs": []
    },
    {
      "cell_type": "code",
      "source": [
        "metadata_file = \"/content/drive/MyDrive/assi_Data_video/video_dataset/metadata.csv\"\n",
        "metadata = pd.read_csv(metadata_file)\n",
        "\n",
        "video_paths = metadata['video_path'].tolist()\n",
        "scores = metadata['score'].tolist()\n",
        "\n",
        "# Step 1: Remove duplicates\n",
        "unique_videos = remove_duplicates(video_paths)\n",
        "\n",
        "# Step 2: Extract faces and recognize unique influencers\n",
        "influencer_data = []\n",
        "all_encodings = []\n",
        "\n"
      ],
      "metadata": {
        "id": "WwFczwpFJTj_"
      },
      "execution_count": null,
      "outputs": []
    },
    {
      "cell_type": "code",
      "source": [],
      "metadata": {
        "id": "ZscETAH0P27x"
      },
      "execution_count": null,
      "outputs": []
    },
    {
      "cell_type": "markdown",
      "source": [
        "## Saving unique videos to my google drive"
      ],
      "metadata": {
        "id": "_3O6Wsh8ZP1s"
      }
    },
    {
      "cell_type": "code",
      "source": [
        "import os\n",
        "import shutil\n",
        "\n",
        "# Path to the folder where unique videos will be saved\n",
        "unique_videos_folder = \"/content/drive/MyDrive/assi_Data_video/unique_videos\"\n",
        "os.makedirs(unique_videos_folder, exist_ok=True)  # Create the folder if it doesn't exist\n",
        "\n",
        "# Copy each unique video to the new folder\n",
        "for video_path in unique_videos:\n",
        "    video_name = os.path.basename(video_path)  # Extract the video file name\n",
        "    destination_path = os.path.join(unique_videos_folder, video_name)  # Define the destination path\n",
        "    shutil.copy(video_path, destination_path)  # Copy the video file\n",
        "    print(f\"Copied {video_name} to {unique_videos_folder}\")\n",
        "\n",
        "print(\"All unique videos have been saved to the new folder.\")"
      ],
      "metadata": {
        "colab": {
          "base_uri": "https://localhost:8080/"
        },
        "id": "WzCyAcyRP24N",
        "outputId": "f62781b0-233b-4c6c-cf86-7785dbeb9ca1"
      },
      "execution_count": null,
      "outputs": [
        {
          "output_type": "stream",
          "name": "stdout",
          "text": [
            "Copied 0_video.mp4 to /content/drive/MyDrive/assi_Data_video/unique_videos\n",
            "Copied 1_video.mp4 to /content/drive/MyDrive/assi_Data_video/unique_videos\n",
            "Copied 2_video.mp4 to /content/drive/MyDrive/assi_Data_video/unique_videos\n",
            "Copied 3_video.mp4 to /content/drive/MyDrive/assi_Data_video/unique_videos\n",
            "Copied 5_video.mp4 to /content/drive/MyDrive/assi_Data_video/unique_videos\n",
            "Copied 6_video.mp4 to /content/drive/MyDrive/assi_Data_video/unique_videos\n",
            "Copied 7_video.mp4 to /content/drive/MyDrive/assi_Data_video/unique_videos\n",
            "Copied 11_video.mp4 to /content/drive/MyDrive/assi_Data_video/unique_videos\n",
            "Copied 12_video.mp4 to /content/drive/MyDrive/assi_Data_video/unique_videos\n",
            "Copied 14_video.mp4 to /content/drive/MyDrive/assi_Data_video/unique_videos\n",
            "Copied 15_video.mp4 to /content/drive/MyDrive/assi_Data_video/unique_videos\n",
            "Copied 18_video.mp4 to /content/drive/MyDrive/assi_Data_video/unique_videos\n",
            "Copied 23_video.mp4 to /content/drive/MyDrive/assi_Data_video/unique_videos\n",
            "Copied 24_video.mp4 to /content/drive/MyDrive/assi_Data_video/unique_videos\n",
            "Copied 25_video.mp4 to /content/drive/MyDrive/assi_Data_video/unique_videos\n",
            "Copied 26_video.mp4 to /content/drive/MyDrive/assi_Data_video/unique_videos\n",
            "Copied 27_video.mp4 to /content/drive/MyDrive/assi_Data_video/unique_videos\n",
            "Copied 30_video.mp4 to /content/drive/MyDrive/assi_Data_video/unique_videos\n",
            "Copied 31_video.mp4 to /content/drive/MyDrive/assi_Data_video/unique_videos\n",
            "Copied 32_video.mp4 to /content/drive/MyDrive/assi_Data_video/unique_videos\n",
            "Copied 35_video.mp4 to /content/drive/MyDrive/assi_Data_video/unique_videos\n",
            "Copied 38_video.mp4 to /content/drive/MyDrive/assi_Data_video/unique_videos\n",
            "Copied 41_video.mp4 to /content/drive/MyDrive/assi_Data_video/unique_videos\n",
            "Copied 42_video.mp4 to /content/drive/MyDrive/assi_Data_video/unique_videos\n",
            "Copied 50_video.mp4 to /content/drive/MyDrive/assi_Data_video/unique_videos\n",
            "Copied 56_video.mp4 to /content/drive/MyDrive/assi_Data_video/unique_videos\n",
            "Copied 57_video.mp4 to /content/drive/MyDrive/assi_Data_video/unique_videos\n",
            "Copied 59_video.mp4 to /content/drive/MyDrive/assi_Data_video/unique_videos\n",
            "Copied 60_video.mp4 to /content/drive/MyDrive/assi_Data_video/unique_videos\n",
            "Copied 64_video.mp4 to /content/drive/MyDrive/assi_Data_video/unique_videos\n",
            "Copied 71_video.mp4 to /content/drive/MyDrive/assi_Data_video/unique_videos\n",
            "Copied 81_video.mp4 to /content/drive/MyDrive/assi_Data_video/unique_videos\n",
            "Copied 82_video.mp4 to /content/drive/MyDrive/assi_Data_video/unique_videos\n",
            "Copied 83_video.mp4 to /content/drive/MyDrive/assi_Data_video/unique_videos\n",
            "Copied 84_video.mp4 to /content/drive/MyDrive/assi_Data_video/unique_videos\n",
            "Copied 93_video.mp4 to /content/drive/MyDrive/assi_Data_video/unique_videos\n",
            "Copied 95_video.mp4 to /content/drive/MyDrive/assi_Data_video/unique_videos\n",
            "Copied 97_video.mp4 to /content/drive/MyDrive/assi_Data_video/unique_videos\n",
            "Copied 101_video.mp4 to /content/drive/MyDrive/assi_Data_video/unique_videos\n",
            "Copied 104_video.mp4 to /content/drive/MyDrive/assi_Data_video/unique_videos\n",
            "Copied 107_video.mp4 to /content/drive/MyDrive/assi_Data_video/unique_videos\n",
            "Copied 121_video.mp4 to /content/drive/MyDrive/assi_Data_video/unique_videos\n",
            "Copied 125_video.mp4 to /content/drive/MyDrive/assi_Data_video/unique_videos\n",
            "Copied 136_video.mp4 to /content/drive/MyDrive/assi_Data_video/unique_videos\n",
            "Copied 137_video.mp4 to /content/drive/MyDrive/assi_Data_video/unique_videos\n",
            "Copied 140_video.mp4 to /content/drive/MyDrive/assi_Data_video/unique_videos\n",
            "Copied 144_video.mp4 to /content/drive/MyDrive/assi_Data_video/unique_videos\n",
            "Copied 145_video.mp4 to /content/drive/MyDrive/assi_Data_video/unique_videos\n",
            "Copied 146_video.mp4 to /content/drive/MyDrive/assi_Data_video/unique_videos\n",
            "Copied 151_video.mp4 to /content/drive/MyDrive/assi_Data_video/unique_videos\n",
            "Copied 154_video.mp4 to /content/drive/MyDrive/assi_Data_video/unique_videos\n",
            "Copied 157_video.mp4 to /content/drive/MyDrive/assi_Data_video/unique_videos\n",
            "Copied 158_video.mp4 to /content/drive/MyDrive/assi_Data_video/unique_videos\n",
            "Copied 160_video.mp4 to /content/drive/MyDrive/assi_Data_video/unique_videos\n",
            "Copied 165_video.mp4 to /content/drive/MyDrive/assi_Data_video/unique_videos\n",
            "Copied 167_video.mp4 to /content/drive/MyDrive/assi_Data_video/unique_videos\n",
            "Copied 170_video.mp4 to /content/drive/MyDrive/assi_Data_video/unique_videos\n",
            "Copied 182_video.mp4 to /content/drive/MyDrive/assi_Data_video/unique_videos\n",
            "Copied 192_video.mp4 to /content/drive/MyDrive/assi_Data_video/unique_videos\n",
            "Copied 198_video.mp4 to /content/drive/MyDrive/assi_Data_video/unique_videos\n",
            "Copied 201_video.mp4 to /content/drive/MyDrive/assi_Data_video/unique_videos\n",
            "Copied 202_video.mp4 to /content/drive/MyDrive/assi_Data_video/unique_videos\n",
            "Copied 203_video.mp4 to /content/drive/MyDrive/assi_Data_video/unique_videos\n",
            "Copied 207_video.mp4 to /content/drive/MyDrive/assi_Data_video/unique_videos\n",
            "Copied 209_video.mp4 to /content/drive/MyDrive/assi_Data_video/unique_videos\n",
            "Copied 210_video.mp4 to /content/drive/MyDrive/assi_Data_video/unique_videos\n",
            "Copied 213_video.mp4 to /content/drive/MyDrive/assi_Data_video/unique_videos\n",
            "Copied 217_video.mp4 to /content/drive/MyDrive/assi_Data_video/unique_videos\n",
            "Copied 251_video.mp4 to /content/drive/MyDrive/assi_Data_video/unique_videos\n",
            "Copied 253_video.mp4 to /content/drive/MyDrive/assi_Data_video/unique_videos\n",
            "Copied 254_video.mp4 to /content/drive/MyDrive/assi_Data_video/unique_videos\n",
            "Copied 255_video.mp4 to /content/drive/MyDrive/assi_Data_video/unique_videos\n",
            "Copied 258_video.mp4 to /content/drive/MyDrive/assi_Data_video/unique_videos\n",
            "Copied 262_video.mp4 to /content/drive/MyDrive/assi_Data_video/unique_videos\n",
            "Copied 265_video.mp4 to /content/drive/MyDrive/assi_Data_video/unique_videos\n",
            "All unique videos have been saved to the new folder.\n"
          ]
        }
      ]
    },
    {
      "cell_type": "code",
      "source": [],
      "metadata": {
        "id": "bDLKAbncP210"
      },
      "execution_count": null,
      "outputs": []
    }
  ]
}